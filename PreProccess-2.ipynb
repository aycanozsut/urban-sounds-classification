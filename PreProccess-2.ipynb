{
 "cells": [
  {
   "cell_type": "code",
   "execution_count": 22,
   "metadata": {},
   "outputs": [],
   "source": [
    "import cv2\n",
    "import pandas as pd\n",
    "import tensorflow as tf\n",
    "import numpy as np\n",
    "import os\n",
    "from sklearn.utils import shuffle\n",
    "from sklearn.model_selection import train_test_split"
   ]
  },
  {
   "cell_type": "code",
   "execution_count": 23,
   "metadata": {},
   "outputs": [],
   "source": [
    "def convertGrayScale(img):\n",
    "    image  = cv2.imread(img)\n",
    "    #print(image.shape)\n",
    "    image  = cv2.imread(img, cv2.IMREAD_GRAYSCALE)\n",
    "    image = cv2.resize(image, (32,32))\n",
    "    image = image/255\n",
    "    image = np.expand_dims(image,-1)\n",
    "    #print(image.shape)\n",
    "    #gray = cv2.cvtColor(image, cv2.COLOR_BGR2GRAY)\n",
    "    return image"
   ]
  },
  {
   "cell_type": "code",
   "execution_count": 24,
   "metadata": {},
   "outputs": [],
   "source": [
    "def readImg():\n",
    "    label = -1\n",
    "    list = []\n",
    "    labels = []\n",
    "    path = 'spectrograms'\n",
    "    for root, subdirs ,files in os.walk(path):\n",
    "        for file in files:\n",
    "            list.append(np.array(convertGrayScale(root+\"\\\\\"+file))),labels.append(np.array(label))\n",
    "        label += 1\n",
    "    return list, labels\n",
    "list,labels = readImg()"
   ]
  },
  {
   "cell_type": "code",
   "execution_count": 25,
   "metadata": {},
   "outputs": [],
   "source": [
    "x_train, x_test, y_train, y_test = train_test_split(list,labels)"
   ]
  },
  {
   "cell_type": "code",
   "execution_count": 26,
   "metadata": {},
   "outputs": [],
   "source": [
    "X_val = x_train[:500]\n",
    "y_val = y_train[:500]\n",
    "x_train = x_train[500:]\n",
    "y_train = y_train[500:]"
   ]
  },
  {
   "cell_type": "code",
   "execution_count": 27,
   "metadata": {},
   "outputs": [],
   "source": [
    "np.save('x_train',x_train)\n",
    "np.save('x_test',x_test)\n",
    "np.save('y_train',y_train)\n",
    "np.save('y_test',y_test)\n",
    "np.save('x_val',X_val)\n",
    "np.save('y_val',y_val)"
   ]
  },
  {
   "cell_type": "code",
   "execution_count": 28,
   "metadata": {},
   "outputs": [
    {
     "name": "stdout",
     "output_type": "stream",
     "text": [
      "x_train: 6049\n",
      "x_test: 2183\n",
      "y_train: 6049\n",
      "y_test: 2183\n",
      "X_val: 500\n",
      "y_val: 500\n"
     ]
    }
   ],
   "source": [
    "print(f\"x_train: {len(x_train)}\")\n",
    "print(f\"x_test: {len(x_test)}\")\n",
    "print(f\"y_train: {len(y_train)}\")\n",
    "print(f\"y_test: {len(y_test)}\")\n",
    "print(f\"X_val: {len(X_val)}\")\n",
    "print(f\"y_val: {len(y_val)}\")"
   ]
  },
  {
   "cell_type": "code",
   "execution_count": null,
   "metadata": {},
   "outputs": [],
   "source": []
  }
 ],
 "metadata": {
  "kernelspec": {
   "display_name": "Python 3.8.13",
   "language": "python",
   "name": "python3"
  },
  "language_info": {
   "codemirror_mode": {
    "name": "ipython",
    "version": 3
   },
   "file_extension": ".py",
   "mimetype": "text/x-python",
   "name": "python",
   "nbconvert_exporter": "python",
   "pygments_lexer": "ipython3",
   "version": "3.8.13"
  },
  "orig_nbformat": 4,
  "vscode": {
   "interpreter": {
    "hash": "2313cbd97abed3bce596966f4c0cf3fb7e3e2fa7be3493b001aae89ba102b03e"
   }
  }
 },
 "nbformat": 4,
 "nbformat_minor": 2
}
