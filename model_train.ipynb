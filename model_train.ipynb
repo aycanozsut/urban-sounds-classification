{
 "cells": [
  {
   "cell_type": "code",
   "execution_count": 1,
   "metadata": {},
   "outputs": [],
   "source": [
    "import cv2\n",
    "import pandas as pd\n",
    "import tensorflow as tf\n",
    "import numpy as np\n",
    "import os\n",
    "from sklearn.utils import shuffle\n",
    "from sklearn.model_selection import train_test_split"
   ]
  },
  {
   "cell_type": "code",
   "execution_count": 3,
   "metadata": {},
   "outputs": [],
   "source": [
    "x_train = np.load('x_train.npy' ,allow_pickle=True)\n",
    "x_test = np.load('x_test.npy' ,allow_pickle=True)\n",
    "y_train = np.load('y_train.npy' ,allow_pickle=True)\n",
    "y_test = np.load('y_test.npy' ,allow_pickle=True)\n",
    "x_val = np.load('x_val.npy' ,allow_pickle=True)\n",
    "y_val = np.load('y_val.npy' ,allow_pickle=True)\n"
   ]
  },
  {
   "cell_type": "code",
   "execution_count": 4,
   "metadata": {},
   "outputs": [],
   "source": [
    "model = tf.keras.Sequential()\n",
    "model.add(tf.keras.layers.Conv2D(32,\n",
    "                                 kernel_size=(3,3),\n",
    "                                 strides=(1,1),\n",
    "                                 padding=\"same\",\n",
    "                                 activation=\"relu\",\n",
    "                                 input_shape=(32,32,1)))\n",
    "model.add(tf.keras.layers.MaxPooling2D((2,2)))\n",
    "\n",
    "model.add(tf.keras.layers.Conv2D(64,\n",
    "                                 kernel_size=(3,3),\n",
    "                                 strides=(1,1),\n",
    "                                 padding=\"same\",\n",
    "                                 activation=\"relu\",\n",
    "                                 input_shape=(32,32,1)))\n",
    "model.add(tf.keras.layers.MaxPooling2D((2,2)))\n",
    "model.add(tf.keras.layers.Conv2D(64,\n",
    "                                 kernel_size=(3,3),\n",
    "                                 strides=(1,1),\n",
    "                                 padding=\"same\",\n",
    "                                 activation=\"relu\"))\n",
    "model.add(tf.keras.layers.Flatten())\n",
    "# Add the dense layer and dropout layer\n",
    "model.add(tf.keras.layers.Dense(64, activation=\"relu\"))\n",
    "model.add(tf.keras.layers.Dropout(0.5))\n",
    "# Add the dense layer and dropout layer\n",
    "model.add(tf.keras.layers.Dense(64, activation=\"relu\"))\n",
    "model.add(tf.keras.layers.Dropout(0.5))\n",
    "model.add(tf.keras.layers.Dense(10, activation=\"softmax\"))"
   ]
  },
  {
   "cell_type": "code",
   "execution_count": 5,
   "metadata": {},
   "outputs": [],
   "source": [
    "model.compile(optimizer=\"adam\",\n",
    "              loss=\"sparse_categorical_crossentropy\",\n",
    "              metrics=[\"accuracy\"])"
   ]
  },
  {
   "cell_type": "code",
   "execution_count": 7,
   "metadata": {},
   "outputs": [
    {
     "name": "stdout",
     "output_type": "stream",
     "text": [
      "Epoch 1/50\n",
      "48/48 [==============================] - 3s 14ms/step - loss: 2.1477 - accuracy: 0.2078 - val_loss: 1.7673 - val_accuracy: 0.4180\n",
      "Epoch 2/50\n",
      "48/48 [==============================] - 0s 7ms/step - loss: 1.8460 - accuracy: 0.3209 - val_loss: 1.5472 - val_accuracy: 0.4880\n",
      "Epoch 3/50\n",
      "48/48 [==============================] - 0s 7ms/step - loss: 1.6755 - accuracy: 0.3910 - val_loss: 1.3592 - val_accuracy: 0.5580\n",
      "Epoch 4/50\n",
      "48/48 [==============================] - 0s 7ms/step - loss: 1.5910 - accuracy: 0.4316 - val_loss: 1.2948 - val_accuracy: 0.5660\n",
      "Epoch 5/50\n",
      "48/48 [==============================] - 0s 7ms/step - loss: 1.5087 - accuracy: 0.4541 - val_loss: 1.2186 - val_accuracy: 0.6180\n",
      "Epoch 6/50\n",
      "48/48 [==============================] - 0s 7ms/step - loss: 1.4223 - accuracy: 0.4870 - val_loss: 1.2148 - val_accuracy: 0.6220\n",
      "Epoch 7/50\n",
      "48/48 [==============================] - 0s 7ms/step - loss: 1.3579 - accuracy: 0.5201 - val_loss: 1.1404 - val_accuracy: 0.6620\n",
      "Epoch 8/50\n",
      "48/48 [==============================] - 0s 7ms/step - loss: 1.2852 - accuracy: 0.5310 - val_loss: 1.0316 - val_accuracy: 0.6820\n",
      "Epoch 9/50\n",
      "48/48 [==============================] - 0s 7ms/step - loss: 1.2229 - accuracy: 0.5541 - val_loss: 1.0654 - val_accuracy: 0.6660\n",
      "Epoch 10/50\n",
      "48/48 [==============================] - 0s 7ms/step - loss: 1.1802 - accuracy: 0.5803 - val_loss: 0.9850 - val_accuracy: 0.7040\n",
      "Epoch 11/50\n",
      "48/48 [==============================] - 0s 7ms/step - loss: 1.1169 - accuracy: 0.5933 - val_loss: 0.8908 - val_accuracy: 0.7320\n",
      "Epoch 12/50\n",
      "48/48 [==============================] - 0s 7ms/step - loss: 1.0891 - accuracy: 0.6194 - val_loss: 0.8999 - val_accuracy: 0.7420\n",
      "Epoch 13/50\n",
      "48/48 [==============================] - 0s 7ms/step - loss: 1.0394 - accuracy: 0.6366 - val_loss: 0.8002 - val_accuracy: 0.7460\n",
      "Epoch 14/50\n",
      "48/48 [==============================] - 0s 7ms/step - loss: 1.0107 - accuracy: 0.6504 - val_loss: 0.8252 - val_accuracy: 0.7500\n",
      "Epoch 15/50\n",
      "48/48 [==============================] - 0s 7ms/step - loss: 0.9482 - accuracy: 0.6722 - val_loss: 0.7767 - val_accuracy: 0.7720\n",
      "Epoch 16/50\n",
      "48/48 [==============================] - 0s 7ms/step - loss: 0.9515 - accuracy: 0.6727 - val_loss: 0.7642 - val_accuracy: 0.7720\n",
      "Epoch 17/50\n",
      "48/48 [==============================] - 0s 7ms/step - loss: 0.8808 - accuracy: 0.6961 - val_loss: 0.7066 - val_accuracy: 0.7760\n",
      "Epoch 18/50\n",
      "48/48 [==============================] - 0s 7ms/step - loss: 0.8577 - accuracy: 0.7039 - val_loss: 0.7393 - val_accuracy: 0.7940\n",
      "Epoch 19/50\n",
      "48/48 [==============================] - 0s 7ms/step - loss: 0.8292 - accuracy: 0.7138 - val_loss: 0.6946 - val_accuracy: 0.7920\n",
      "Epoch 20/50\n",
      "48/48 [==============================] - 0s 7ms/step - loss: 0.7823 - accuracy: 0.7277 - val_loss: 0.6409 - val_accuracy: 0.8000\n",
      "Epoch 21/50\n",
      "48/48 [==============================] - 0s 7ms/step - loss: 0.7945 - accuracy: 0.7289 - val_loss: 0.6705 - val_accuracy: 0.8000\n",
      "Epoch 22/50\n",
      "48/48 [==============================] - 0s 7ms/step - loss: 0.7676 - accuracy: 0.7429 - val_loss: 0.6785 - val_accuracy: 0.7880\n",
      "Epoch 23/50\n",
      "48/48 [==============================] - 0s 7ms/step - loss: 0.7254 - accuracy: 0.7495 - val_loss: 0.6201 - val_accuracy: 0.8220\n",
      "Epoch 24/50\n",
      "48/48 [==============================] - 0s 7ms/step - loss: 0.6894 - accuracy: 0.7644 - val_loss: 0.6539 - val_accuracy: 0.8020\n",
      "Epoch 25/50\n",
      "48/48 [==============================] - 0s 7ms/step - loss: 0.6682 - accuracy: 0.7709 - val_loss: 0.6070 - val_accuracy: 0.8160\n",
      "Epoch 26/50\n",
      "48/48 [==============================] - 0s 7ms/step - loss: 0.6575 - accuracy: 0.7750 - val_loss: 0.6087 - val_accuracy: 0.8120\n",
      "Epoch 27/50\n",
      "48/48 [==============================] - 0s 7ms/step - loss: 0.6139 - accuracy: 0.7894 - val_loss: 0.5970 - val_accuracy: 0.8260\n",
      "Epoch 28/50\n",
      "48/48 [==============================] - 0s 7ms/step - loss: 0.6338 - accuracy: 0.7828 - val_loss: 0.5962 - val_accuracy: 0.8340\n",
      "Epoch 29/50\n",
      "48/48 [==============================] - 0s 7ms/step - loss: 0.5781 - accuracy: 0.8000 - val_loss: 0.6136 - val_accuracy: 0.8120\n",
      "Epoch 30/50\n",
      "48/48 [==============================] - 0s 7ms/step - loss: 0.5797 - accuracy: 0.7996 - val_loss: 0.5549 - val_accuracy: 0.8300\n",
      "Epoch 31/50\n",
      "48/48 [==============================] - 0s 7ms/step - loss: 0.5739 - accuracy: 0.8001 - val_loss: 0.5483 - val_accuracy: 0.8380\n",
      "Epoch 32/50\n",
      "48/48 [==============================] - 0s 8ms/step - loss: 0.5712 - accuracy: 0.8096 - val_loss: 0.5760 - val_accuracy: 0.8140\n",
      "Epoch 33/50\n",
      "48/48 [==============================] - 0s 8ms/step - loss: 0.5338 - accuracy: 0.8191 - val_loss: 0.5405 - val_accuracy: 0.8540\n",
      "Epoch 34/50\n",
      "48/48 [==============================] - 0s 7ms/step - loss: 0.5190 - accuracy: 0.8153 - val_loss: 0.5655 - val_accuracy: 0.8480\n",
      "Epoch 35/50\n",
      "48/48 [==============================] - 0s 7ms/step - loss: 0.4919 - accuracy: 0.8282 - val_loss: 0.5113 - val_accuracy: 0.8620\n",
      "Epoch 36/50\n",
      "48/48 [==============================] - 0s 7ms/step - loss: 0.4933 - accuracy: 0.8263 - val_loss: 0.5146 - val_accuracy: 0.8440\n",
      "Epoch 37/50\n",
      "48/48 [==============================] - 0s 7ms/step - loss: 0.4695 - accuracy: 0.8330 - val_loss: 0.5352 - val_accuracy: 0.8280\n",
      "Epoch 38/50\n",
      "48/48 [==============================] - 0s 7ms/step - loss: 0.4568 - accuracy: 0.8416 - val_loss: 0.5347 - val_accuracy: 0.8480\n",
      "Epoch 39/50\n",
      "48/48 [==============================] - 0s 7ms/step - loss: 0.4620 - accuracy: 0.8377 - val_loss: 0.5260 - val_accuracy: 0.8540\n",
      "Epoch 40/50\n",
      "48/48 [==============================] - 0s 7ms/step - loss: 0.4486 - accuracy: 0.8444 - val_loss: 0.5458 - val_accuracy: 0.8360\n",
      "Epoch 41/50\n",
      "48/48 [==============================] - 0s 7ms/step - loss: 0.4402 - accuracy: 0.8425 - val_loss: 0.5268 - val_accuracy: 0.8320\n",
      "Epoch 42/50\n",
      "48/48 [==============================] - 0s 7ms/step - loss: 0.4171 - accuracy: 0.8517 - val_loss: 0.4814 - val_accuracy: 0.8500\n",
      "Epoch 43/50\n",
      "48/48 [==============================] - 0s 7ms/step - loss: 0.4116 - accuracy: 0.8553 - val_loss: 0.5584 - val_accuracy: 0.8320\n",
      "Epoch 44/50\n",
      "48/48 [==============================] - 0s 8ms/step - loss: 0.4243 - accuracy: 0.8496 - val_loss: 0.5075 - val_accuracy: 0.8440\n",
      "Epoch 45/50\n",
      "48/48 [==============================] - 0s 7ms/step - loss: 0.4080 - accuracy: 0.8578 - val_loss: 0.6884 - val_accuracy: 0.8040\n",
      "Epoch 46/50\n",
      "48/48 [==============================] - 0s 7ms/step - loss: 0.4087 - accuracy: 0.8527 - val_loss: 0.5732 - val_accuracy: 0.8240\n",
      "Epoch 47/50\n",
      "48/48 [==============================] - 0s 7ms/step - loss: 0.3876 - accuracy: 0.8608 - val_loss: 0.6561 - val_accuracy: 0.8180\n",
      "Epoch 48/50\n",
      "48/48 [==============================] - 0s 7ms/step - loss: 0.3786 - accuracy: 0.8663 - val_loss: 0.6242 - val_accuracy: 0.8360\n",
      "Epoch 49/50\n",
      "48/48 [==============================] - 0s 7ms/step - loss: 0.3576 - accuracy: 0.8740 - val_loss: 0.6131 - val_accuracy: 0.8380\n",
      "Epoch 50/50\n",
      "48/48 [==============================] - 0s 7ms/step - loss: 0.3801 - accuracy: 0.8623 - val_loss: 0.6643 - val_accuracy: 0.8320\n"
     ]
    }
   ],
   "source": [
    "results = model.fit(x_train, y_train,\n",
    "                    batch_size=128,\n",
    "                    epochs=50,\n",
    "                    validation_data=(x_val, y_val))"
   ]
  },
  {
   "cell_type": "code",
   "execution_count": 8,
   "metadata": {},
   "outputs": [
    {
     "data": {
      "image/png": "[encoded data removed]",
      "text/plain": [
       "<Figure size 432x288 with 1 Axes>"
      ]
     },
     "metadata": {
      "needs_background": "light"
     },
     "output_type": "display_data"
    }
   ],
   "source": [
    "import matplotlib.pyplot as plt\n",
    "\n",
    "# Plot the the training loss\n",
    "plt.plot(results.history[\"loss\"], label=\"loss\")\n",
    "\n",
    "# Plot the the validation loss\n",
    "plt.plot(results.history[\"val_loss\"], label=\"val_loss\")\n",
    "\n",
    "# Name the x and y axises\n",
    "plt.xlabel(\"Epoch\")\n",
    "plt.ylabel(\"Loss\")\n",
    "# Put legend table\n",
    "plt.legend()\n",
    "\n",
    "# Show the plot\n",
    "plt.show()"
   ]
  },
  {
   "cell_type": "code",
   "execution_count": 9,
   "metadata": {},
   "outputs": [
    {
     "data": {
      "image/png": "[encoded data removed]",
      "text/plain": [
       "<Figure size 432x288 with 1 Axes>"
      ]
     },
     "metadata": {
      "needs_background": "light"
     },
     "output_type": "display_data"
    }
   ],
   "source": [
    "# Plot the the training accuracy\n",
    "plt.plot(results.history[\"accuracy\"], label=\"accuracy\")\n",
    "\n",
    "# Plot the the validation accuracy\n",
    "plt.plot(results.history[\"val_accuracy\"], label=\"val_accuracy\")\n",
    "\n",
    "# Name the x and y axises\n",
    "plt.xlabel(\"Epoch\")\n",
    "plt.ylabel(\"Accuracy\")\n",
    "\n",
    "# Put legend table\n",
    "plt.legend()\n",
    "\n",
    "# Show the plot\n",
    "plt.show()"
   ]
  },
  {
   "cell_type": "code",
   "execution_count": 10,
   "metadata": {},
   "outputs": [
    {
     "name": "stdout",
     "output_type": "stream",
     "text": [
      "69/69 [==============================] - 1s 4ms/step - loss: 0.6064 - accuracy: 0.8470\n"
     ]
    },
    {
     "data": {
      "text/plain": [
       "[0.6064077615737915, 0.8469995260238647]"
      ]
     },
     "execution_count": 10,
     "metadata": {},
     "output_type": "execute_result"
    }
   ],
   "source": [
    "##Performance Evaulate\n",
    "model.evaluate(x_test, y_test)"
   ]
  },
  {
   "cell_type": "code",
   "execution_count": 11,
   "metadata": {},
   "outputs": [
    {
     "name": "stdout",
     "output_type": "stream",
     "text": [
      "1/1 [==============================] - 0s 381ms/step\n"
     ]
    },
    {
     "data": {
      "text/plain": [
       "array([[1.07943436e-07, 9.98414278e-01, 1.67641090e-07, 1.16955025e-05,\n",
       "        5.11852886e-05, 1.96515113e-12, 1.48594002e-11, 4.51975870e-12,\n",
       "        1.77541892e-06, 1.52077968e-03]], dtype=float32)"
      ]
     },
     "execution_count": 11,
     "metadata": {},
     "output_type": "execute_result"
    }
   ],
   "source": [
    "# Make prediction on the reshaped sample\n",
    "prediction_result = model.predict(x_test[789].reshape(1,32,32,1))\n",
    "\n",
    "# Print the prediction result\n",
    "prediction_result"
   ]
  },
  {
   "cell_type": "code",
   "execution_count": 12,
   "metadata": {},
   "outputs": [],
   "source": [
    "# Find the predicted class\n",
    "predicted_class=prediction_result.argmax()\n",
    "# Find the prediction probability\n",
    "predicted_probability = prediction_result.max()"
   ]
  },
  {
   "cell_type": "code",
   "execution_count": 13,
   "metadata": {},
   "outputs": [
    {
     "name": "stdout",
     "output_type": "stream",
     "text": [
      "This image belongs to class 1 with 0.9984142780303955 probability %\n"
     ]
    }
   ],
   "source": [
    "print(f\"This image belongs to class {predicted_class} with {predicted_probability} probability %\")"
   ]
  }
 ],
 "metadata": {
  "kernelspec": {
   "display_name": "Python 3.8.13",
   "language": "python",
   "name": "python3"
  },
  "language_info": {
   "codemirror_mode": {
    "name": "ipython",
    "version": 3
   },
   "file_extension": ".py",
   "mimetype": "text/x-python",
   "name": "python",
   "nbconvert_exporter": "python",
   "pygments_lexer": "ipython3",
   "version": "3.8.13"
  },
  "orig_nbformat": 4,
  "vscode": {
   "interpreter": {
    "hash": "2313cbd97abed3bce596966f4c0cf3fb7e3e2fa7be3493b001aae89ba102b03e"
   }
  }
 },
 "nbformat": 4,
 "nbformat_minor": 2
}
